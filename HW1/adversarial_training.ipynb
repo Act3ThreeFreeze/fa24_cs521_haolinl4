{
  "cells": [
    {
      "cell_type": "markdown",
      "metadata": {
        "id": "Whsg1XX_OZs6"
      },
      "source": [
        "# Boilerplate\n",
        "\n",
        "Package installation, loading, and dataloaders. There's also a simple model defined. You can change it your favourite architecture if you want."
      ]
    },
    {
      "cell_type": "code",
      "execution_count": 4,
      "metadata": {
        "collapsed": true,
        "id": "R1domTvnONqD"
      },
      "outputs": [
        {
          "name": "stdout",
          "output_type": "stream",
          "text": [
            "cuda\n"
          ]
        }
      ],
      "source": [
        "# !pip install tensorboardX\n",
        "\n",
        "import torch\n",
        "import torch.nn as nn\n",
        "import torch.optim as optim\n",
        "import torch.nn.functional as F\n",
        "import numpy as np\n",
        "import time\n",
        "import matplotlib.pyplot as plt\n",
        "\n",
        "from torchvision import datasets, transforms\n",
        "# from tensorboardX import SummaryWriter\n",
        "\n",
        "# use_cuda = False\n",
        "device = torch.device(\"cuda\" if torch.cuda.is_available() else \"cpu\")\n",
        "# device = torch.device('cpu')\n",
        "print(device)\n",
        "batch_size = 64\n",
        "\n",
        "np.random.seed(42)\n",
        "torch.manual_seed(42)\n",
        "\n",
        "\n",
        "## Dataloaders\n",
        "train_dataset = datasets.MNIST('mnist_data/', train=True, download=True, transform=transforms.Compose(\n",
        "    [transforms.ToTensor()]\n",
        "))\n",
        "test_dataset = datasets.MNIST('mnist_data/', train=False, download=True, transform=transforms.Compose(\n",
        "    [transforms.ToTensor()]\n",
        "))\n",
        "\n",
        "train_loader = torch.utils.data.DataLoader(train_dataset, batch_size=batch_size, shuffle=True)\n",
        "test_loader = torch.utils.data.DataLoader(test_dataset, batch_size=batch_size, shuffle=False)\n",
        "\n",
        "\n",
        "\n",
        "## Simple NN. You can change this if you want. If you change it, mention the architectural details in your report.\n",
        "class Net(nn.Module):\n",
        "    def __init__(self):\n",
        "        super(Net, self).__init__()\n",
        "        self.fc = nn.Linear(28*28, 200)\n",
        "        self.fc2 = nn.Linear(200,10)\n",
        "\n",
        "    def forward(self, x):\n",
        "        x = x.view((-1, 28*28))\n",
        "        x = F.relu(self.fc(x))\n",
        "        x = self.fc2(x)\n",
        "        return x\n",
        "\n",
        "class Normalize(nn.Module):\n",
        "    def forward(self, x):\n",
        "        return (x - 0.1307)/0.3081\n",
        "\n",
        "# Add the data normalization as a first \"layer\" to the network\n",
        "# this allows us to search for adverserial examples to the real image, rather than\n",
        "# to the normalized image\n",
        "model = nn.Sequential(Normalize(), Net())\n",
        "\n",
        "model = model.to(device)\n",
        "model.train()\n",
        "\n",
        "loss_func = nn.CrossEntropyLoss()"
      ]
    },
    {
      "cell_type": "markdown",
      "metadata": {
        "id": "NCmWfZHTO8Oo"
      },
      "source": [
        "# Implement the Attacks\n",
        "\n",
        "Functions are given a simple useful signature that you can start with. Feel free to extend the signature as you see fit.\n",
        "\n",
        "You may find it useful to create a 'batched' version of PGD that you can use to create the adversarial attack."
      ]
    },
    {
      "cell_type": "code",
      "execution_count": 5,
      "metadata": {
        "id": "EZjvA49yONqP"
      },
      "outputs": [],
      "source": [
        "def fgsm(model, x, y, eps):\n",
        "    #TODO: implement this as an intermediate step of PGD\n",
        "    # Notes: put the model in eval() mode for this function\n",
        "    # model already in eval mode when this function is called\n",
        "    x = x.to(device)\n",
        "    y = y.to(device)\n",
        "    \n",
        "    x.requires_grad = True\n",
        "\n",
        "    outputs = model(x)\n",
        "\n",
        "    model.zero_grad()\n",
        "    loss = loss_func(outputs, y).to(device)\n",
        "    loss.backward()\n",
        "\n",
        "    # Perturb the input image\n",
        "    x_prime = x + eps * x.grad.sign()\n",
        "\n",
        "    return x_prime\n",
        "\n",
        "# k parameter can be tuned\n",
        "def pgd_untargeted(model, x, y, eps_step, k=30, eps=0.3):\n",
        "    #TODO: implement this\n",
        "    # Notes: put the model in eval() mode for this function\n",
        "    model.eval()\n",
        "\n",
        "    x = x.to(device)\n",
        "    y = y.to(device)\n",
        "\n",
        "    ori_x = x.data\n",
        "\n",
        "    for i in range(k) :\n",
        "        adv_x = fgsm(model, x, y, eps_step)\n",
        "\n",
        "        eta = torch.clamp(adv_x - ori_x, min=-eps, max=eps)\n",
        "        x = torch.clamp(ori_x + eta, min=0, max=1).detach_()\n",
        "\n",
        "    return x"
      ]
    },
    {
      "cell_type": "markdown",
      "metadata": {
        "id": "0Mja_AB4RykO"
      },
      "source": [
        "# Implement Adversarial Training"
      ]
    },
    {
      "cell_type": "code",
      "execution_count": 6,
      "metadata": {
        "id": "V-sw8yKYONqQ"
      },
      "outputs": [],
      "source": [
        "# for now, make maximum pertubation allowed 0.3\n",
        "\n",
        "def train_model(model, num_epochs, enable_defense=True, attack='pgd', eps=0.1):\n",
        "    # TODO: implement this function that trains a given model on the MNIST dataset.\n",
        "    # this is a general-purpose function for both standard training and adversarial training.\n",
        "    # (toggle enable_defense parameter to switch between training schemes)\n",
        "    optimizer = optim.SGD(model.parameters())\n",
        "\n",
        "    model.train()\n",
        "\n",
        "    for epoch in range(num_epochs):\n",
        "        # code adapted from official pytorch guide here: https://pytorch.org/tutorials/beginner/blitz/cifar10_tutorial.html\n",
        "        # running_loss = 0.0\n",
        "        for inputs, labels in train_loader:\n",
        "            # get the inputs; data is a list of [inputs, labels]\n",
        "            # inputs, labels = data\n",
        "            inputs = inputs.to(device)\n",
        "            labels = labels.to(device)\n",
        "\n",
        "            optimizer.zero_grad()\n",
        "\n",
        "            # forward + backward + optimize\n",
        "            outputs = model(inputs)\n",
        "            loss = loss_func(outputs, labels)\n",
        "            loss.backward()\n",
        "            optimizer.step()\n",
        "\n",
        "        if enable_defense:\n",
        "            for inputs, labels in train_loader:\n",
        "                # get the inputs; data is a list of [inputs, labels]\n",
        "                # inputs, labels = data\n",
        "                inputs = inputs.to(device)\n",
        "                labels = labels.to(device)\n",
        "\n",
        "                # Generate adversarial examples using PGD\n",
        "                adv_inputs = pgd_untargeted(model, inputs, labels, eps)\n",
        "    \n",
        "                # put the model back in training mode\n",
        "                model.train()\n",
        "\n",
        "                optimizer.zero_grad()\n",
        "\n",
        "                # forward + backward + optimize\n",
        "                outputs = model(adv_inputs)\n",
        "                loss = loss_func(outputs, labels)\n",
        "                loss.backward()\n",
        "                optimizer.step()\n",
        "    "
      ]
    },
    {
      "cell_type": "code",
      "execution_count": 7,
      "metadata": {
        "id": "d1Ms3LAEMouJ"
      },
      "outputs": [],
      "source": [
        "def test_model(model, attack='non', eps=0.1):\n",
        "    # TODO: implement this function to test the robust accuracy of the given model\n",
        "    # use pgd_untargeted() within this function\n",
        "\n",
        "    # loss_func = nn.CrossEntropyLoss()\n",
        "\n",
        "    model.eval()  # Set the model to evaluation mode\n",
        "    test_loss = 0\n",
        "    correct = 0\n",
        "    for test_inputs, true_labels in test_loader:\n",
        "        # if testing on attacks, get adversarial examples for robust accuracy\n",
        "        test_inputs = test_inputs.to(device)\n",
        "        true_labels = true_labels.to(device)\n",
        "\n",
        "        if attack == 'pgd':\n",
        "            adv_inputs = pgd_untargeted(model, test_inputs, true_labels, eps)\n",
        "            # test_inputs = torch.cat([test_inputs, adv_inputs])\n",
        "            # true_labels = torch.cat([true_labels, true_labels])\n",
        "            test_inputs = adv_inputs\n",
        "        elif attack == 'fgsm':\n",
        "            adv_inputs = fgsm(model, test_inputs, true_labels, eps)\n",
        "            test_inputs = adv_inputs\n",
        "\n",
        "        # Forward pass\n",
        "        output = model(test_inputs)\n",
        "        test_loss += loss_func(output, true_labels).item()  # Sum up batch loss\n",
        "\n",
        "        pred = output.argmax(dim=1, keepdim=True)  # Get the index of the max log-probability\n",
        "\n",
        "        correct += pred.eq(true_labels.view_as(pred)).sum().item()\n",
        "\n",
        "    test_loss /= len(test_loader.dataset)\n",
        "    accuracy = 100. * correct / len(test_loader.dataset)\n",
        "\n",
        "    if attack != 'non':\n",
        "      print(f\"Test set: Average loss: {test_loss:.4f}, Robust Accuracy: {correct}/{len(test_loader.dataset)} ({accuracy:.2f}%)\")\n",
        "    else:\n",
        "      print(f\"Test set: Average loss: {test_loss:.4f}, Regular Accuracy: {correct}/{len(test_loader.dataset)} ({accuracy:.2f}%)\")\n",
        "    return accuracy"
      ]
    },
    {
      "cell_type": "markdown",
      "metadata": {
        "id": "ZPMdfEhtR3zm"
      },
      "source": [
        "# Study Accuracy, Quality, etc.\n",
        "\n",
        "Compare the various results and report your observations on the submission."
      ]
    },
    {
      "cell_type": "code",
      "execution_count": 5,
      "metadata": {
        "id": "y7begoReMouJ",
        "scrolled": true
      },
      "outputs": [],
      "source": [
        "## train the original model\n",
        "model = nn.Sequential(Normalize(), Net())\n",
        "model = model.to(device)\n",
        "model.train()\n",
        "\n",
        "train_model(model, 20, False)\n",
        "torch.save(model.state_dict(), 'weights.pt')"
      ]
    },
    {
      "cell_type": "code",
      "execution_count": 6,
      "metadata": {},
      "outputs": [],
      "source": [
        "## perform PGD attack and construct adversarial example set\n",
        "adversarial_set = set()\n",
        "\n",
        "for test_inputs, true_labels in test_loader:\n",
        "        # if testing on attacks, get adversarial examples for robust accuracy\n",
        "        test_inputs = test_inputs.to(device)\n",
        "        true_labels = true_labels.to(device)\n",
        "\n",
        "        adv_inputs = pgd_untargeted(model, test_inputs, true_labels, 0.05)\n",
        "\n",
        "        random_index = np.random.randint(0, len(test_inputs))\n",
        "\n",
        "        img1 = torch.Tensor.cpu(test_inputs[random_index]).detach().numpy()[0]\n",
        "        img2 = torch.Tensor.cpu(adv_inputs[random_index]).detach().numpy()[0]\n",
        "\n",
        "        break"
      ]
    },
    {
      "cell_type": "code",
      "execution_count": 7,
      "metadata": {},
      "outputs": [
        {
          "data": {
            "text/plain": [
              "<matplotlib.image.AxesImage at 0x1dc4300b5f0>"
            ]
          },
          "execution_count": 7,
          "metadata": {},
          "output_type": "execute_result"
        },
        {
          "data": {
            "image/png": "[encoded data removed]",
            "text/plain": [
              "<Figure size 640x480 with 1 Axes>"
            ]
          },
          "metadata": {},
          "output_type": "display_data"
        }
      ],
      "source": [
        "plt.imshow(img1, cmap='gray')"
      ]
    },
    {
      "cell_type": "code",
      "execution_count": 8,
      "metadata": {},
      "outputs": [
        {
          "data": {
            "text/plain": [
              "<matplotlib.image.AxesImage at 0x1dc58b464b0>"
            ]
          },
          "execution_count": 8,
          "metadata": {},
          "output_type": "execute_result"
        },
        {
          "data": {
            "image/png": "[encoded data removed]",
            "text/plain": [
              "<Figure size 640x480 with 1 Axes>"
            ]
          },
          "metadata": {},
          "output_type": "display_data"
        }
      ],
      "source": [
        "plt.imshow(img2, cmap='gray')"
      ]
    },
    {
      "cell_type": "code",
      "execution_count": 9,
      "metadata": {
        "colab": {
          "base_uri": "https://localhost:8080/"
        },
        "id": "RSoSxKnowTLG",
        "outputId": "59035b55-4474-46c8-a52e-2358ca6f7adc"
      },
      "outputs": [
        {
          "name": "stderr",
          "output_type": "stream",
          "text": [
            "C:\\Users\\haoli\\AppData\\Local\\Temp\\ipykernel_15076\\230489450.py:3: FutureWarning: You are using `torch.load` with `weights_only=False` (the current default value), which uses the default pickle module implicitly. It is possible to construct malicious pickle data which will execute arbitrary code during unpickling (See https://github.com/pytorch/pytorch/blob/main/SECURITY.md#untrusted-models for more details). In a future release, the default value for `weights_only` will be flipped to `True`. This limits the functions that could be executed during unpickling. Arbitrary objects will no longer be allowed to be loaded via this mode unless they are explicitly allowlisted by the user via `torch.serialization.add_safe_globals`. We recommend you start setting `weights_only=True` for any use case where you don't have full control of the loaded file. Please open an issue on GitHub for any issues related to this experimental feature.\n",
            "  model.load_state_dict(torch.load('weights.pt'))\n"
          ]
        },
        {
          "name": "stdout",
          "output_type": "stream",
          "text": [
            "Test set: Average loss: 0.0041, Regular Accuracy: 9249/10000 (92.49%)\n",
            "Test set: Average loss: 0.0041, Regular Accuracy: 9249/10000 (92.49%)\n",
            "Test set: Average loss: 0.0041, Regular Accuracy: 9249/10000 (92.49%)\n",
            "Test set: Average loss: 0.0041, Regular Accuracy: 9249/10000 (92.49%)\n"
          ]
        }
      ],
      "source": [
        "## model without attack\n",
        "model = nn.Sequential(Normalize(), Net()).to(device)\n",
        "model.load_state_dict(torch.load('weights.pt'))\n",
        "\n",
        "for eps in [0.05, 0.1, 0.15, 0.2]:\n",
        "    test_model(model, attack='non', eps=eps)"
      ]
    },
    {
      "cell_type": "code",
      "execution_count": 10,
      "metadata": {
        "id": "gotT51mxMouJ"
      },
      "outputs": [
        {
          "name": "stderr",
          "output_type": "stream",
          "text": [
            "C:\\Users\\haoli\\AppData\\Local\\Temp\\ipykernel_15076\\2730821538.py:3: FutureWarning: You are using `torch.load` with `weights_only=False` (the current default value), which uses the default pickle module implicitly. It is possible to construct malicious pickle data which will execute arbitrary code during unpickling (See https://github.com/pytorch/pytorch/blob/main/SECURITY.md#untrusted-models for more details). In a future release, the default value for `weights_only` will be flipped to `True`. This limits the functions that could be executed during unpickling. Arbitrary objects will no longer be allowed to be loaded via this mode unless they are explicitly allowlisted by the user via `torch.serialization.add_safe_globals`. We recommend you start setting `weights_only=True` for any use case where you don't have full control of the loaded file. Please open an issue on GitHub for any issues related to this experimental feature.\n",
            "  model.load_state_dict(torch.load('weights.pt'))\n"
          ]
        },
        {
          "name": "stdout",
          "output_type": "stream",
          "text": [
            "Test set: Average loss: 0.1798, Robust Accuracy: 0/10000 (0.00%)\n",
            "Test set: Average loss: 0.1794, Robust Accuracy: 0/10000 (0.00%)\n",
            "Test set: Average loss: 0.1784, Robust Accuracy: 0/10000 (0.00%)\n",
            "Test set: Average loss: 0.1766, Robust Accuracy: 0/10000 (0.00%)\n"
          ]
        }
      ],
      "source": [
        "## PGD attack on regular model\n",
        "model = nn.Sequential(Normalize(), Net()).to(device)\n",
        "model.load_state_dict(torch.load('weights.pt'))\n",
        "\n",
        "for eps in [0.05, 0.1, 0.15, 0.2]:\n",
        "    test_model(model, attack='pgd', eps=eps)"
      ]
    },
    {
      "cell_type": "code",
      "execution_count": 11,
      "metadata": {},
      "outputs": [
        {
          "name": "stderr",
          "output_type": "stream",
          "text": [
            "C:\\Users\\haoli\\AppData\\Local\\Temp\\ipykernel_15076\\1248948121.py:3: FutureWarning: You are using `torch.load` with `weights_only=False` (the current default value), which uses the default pickle module implicitly. It is possible to construct malicious pickle data which will execute arbitrary code during unpickling (See https://github.com/pytorch/pytorch/blob/main/SECURITY.md#untrusted-models for more details). In a future release, the default value for `weights_only` will be flipped to `True`. This limits the functions that could be executed during unpickling. Arbitrary objects will no longer be allowed to be loaded via this mode unless they are explicitly allowlisted by the user via `torch.serialization.add_safe_globals`. We recommend you start setting `weights_only=True` for any use case where you don't have full control of the loaded file. Please open an issue on GitHub for any issues related to this experimental feature.\n",
            "  model.load_state_dict(torch.load('weights.pt'))\n"
          ]
        },
        {
          "name": "stdout",
          "output_type": "stream",
          "text": [
            "Test set: Average loss: 0.0243, Robust Accuracy: 4830/10000 (48.30%)\n",
            "Test set: Average loss: 0.0707, Robust Accuracy: 530/10000 (5.30%)\n",
            "Test set: Average loss: 0.1245, Robust Accuracy: 23/10000 (0.23%)\n",
            "Test set: Average loss: 0.1739, Robust Accuracy: 0/10000 (0.00%)\n"
          ]
        }
      ],
      "source": [
        "## FGSM attack on regular model\n",
        "model = nn.Sequential(Normalize(), Net()).to(device)\n",
        "model.load_state_dict(torch.load('weights.pt'))\n",
        "\n",
        "for eps in [0.05, 0.1, 0.15, 0.2]:\n",
        "    test_model(model, attack='fgsm', eps=eps)"
      ]
    },
    {
      "cell_type": "code",
      "execution_count": 8,
      "metadata": {
        "id": "ufD-ccTFR8R2"
      },
      "outputs": [],
      "source": [
        "## PGD based adversarial training\n",
        "model = nn.Sequential(Normalize(), Net()).to(device)\n",
        "eps = 0.1\n",
        "train_model(model, 20, True, 'pgd', eps)\n",
        "torch.save(model.state_dict(), f'weights_AT_0.1_sepa.pt')"
      ]
    },
    {
      "cell_type": "code",
      "execution_count": 9,
      "metadata": {
        "id": "b09x8548xXUX"
      },
      "outputs": [
        {
          "name": "stderr",
          "output_type": "stream",
          "text": [
            "C:\\Users\\haoli\\AppData\\Local\\Temp\\ipykernel_8420\\82672709.py:3: FutureWarning: You are using `torch.load` with `weights_only=False` (the current default value), which uses the default pickle module implicitly. It is possible to construct malicious pickle data which will execute arbitrary code during unpickling (See https://github.com/pytorch/pytorch/blob/main/SECURITY.md#untrusted-models for more details). In a future release, the default value for `weights_only` will be flipped to `True`. This limits the functions that could be executed during unpickling. Arbitrary objects will no longer be allowed to be loaded via this mode unless they are explicitly allowlisted by the user via `torch.serialization.add_safe_globals`. We recommend you start setting `weights_only=True` for any use case where you don't have full control of the loaded file. Please open an issue on GitHub for any issues related to this experimental feature.\n",
            "  model.load_state_dict(torch.load(f'weights_AT_0.1_sepa.pt'))\n"
          ]
        },
        {
          "name": "stdout",
          "output_type": "stream",
          "text": [
            "testing adversarial-trained model with eps 0.05\n",
            "Test set: Average loss: 0.0123, Regular Accuracy: 8787/10000 (87.87%)\n",
            "testing adversarial-trained model with eps 0.1\n",
            "Test set: Average loss: 0.0123, Regular Accuracy: 8787/10000 (87.87%)\n",
            "testing adversarial-trained model with eps 0.15\n",
            "Test set: Average loss: 0.0123, Regular Accuracy: 8787/10000 (87.87%)\n",
            "testing adversarial-trained model with eps 0.2\n",
            "Test set: Average loss: 0.0123, Regular Accuracy: 8787/10000 (87.87%)\n"
          ]
        }
      ],
      "source": [
        "## adversarial model without attack\n",
        "model = nn.Sequential(Normalize(), Net()).to(device)\n",
        "model.load_state_dict(torch.load(f'weights_AT_0.1_sepa.pt'))\n",
        "\n",
        "for eps in [0.05, 0.1, 0.15, 0.2]:\n",
        "    print(f\"testing adversarial-trained model with eps {eps}\")\n",
        "    test_model(model, attack='non', eps=eps)"
      ]
    },
    {
      "cell_type": "code",
      "execution_count": 10,
      "metadata": {
        "id": "7POMYdYgxXek"
      },
      "outputs": [
        {
          "name": "stderr",
          "output_type": "stream",
          "text": [
            "C:\\Users\\haoli\\AppData\\Local\\Temp\\ipykernel_8420\\1759618982.py:3: FutureWarning: You are using `torch.load` with `weights_only=False` (the current default value), which uses the default pickle module implicitly. It is possible to construct malicious pickle data which will execute arbitrary code during unpickling (See https://github.com/pytorch/pytorch/blob/main/SECURITY.md#untrusted-models for more details). In a future release, the default value for `weights_only` will be flipped to `True`. This limits the functions that could be executed during unpickling. Arbitrary objects will no longer be allowed to be loaded via this mode unless they are explicitly allowlisted by the user via `torch.serialization.add_safe_globals`. We recommend you start setting `weights_only=True` for any use case where you don't have full control of the loaded file. Please open an issue on GitHub for any issues related to this experimental feature.\n",
            "  model.load_state_dict(torch.load(f'weights_AT_0.1_sepa.pt'))\n"
          ]
        },
        {
          "name": "stdout",
          "output_type": "stream",
          "text": [
            "testing adversarial-trained model with eps 0.05\n",
            "Test set: Average loss: 0.0373, Robust Accuracy: 1239/10000 (12.39%)\n",
            "testing adversarial-trained model with eps 0.1\n",
            "Test set: Average loss: 0.0362, Robust Accuracy: 1634/10000 (16.34%)\n",
            "testing adversarial-trained model with eps 0.15\n",
            "Test set: Average loss: 0.0343, Robust Accuracy: 2490/10000 (24.90%)\n",
            "testing adversarial-trained model with eps 0.2\n",
            "Test set: Average loss: 0.0334, Robust Accuracy: 2823/10000 (28.23%)\n"
          ]
        }
      ],
      "source": [
        "## PGD attack on adversarial trained model\n",
        "model = nn.Sequential(Normalize(), Net()).to(device)\n",
        "model.load_state_dict(torch.load(f'weights_AT_0.1_sepa.pt'))\n",
        "\n",
        "for eps in [0.05, 0.1, 0.15, 0.2]:\n",
        "    print(f\"testing adversarial-trained model with eps {eps}\")\n",
        "    test_model(model, attack='pgd', eps=eps)"
      ]
    },
    {
      "cell_type": "code",
      "execution_count": 11,
      "metadata": {},
      "outputs": [
        {
          "name": "stderr",
          "output_type": "stream",
          "text": [
            "C:\\Users\\haoli\\AppData\\Local\\Temp\\ipykernel_8420\\2156662828.py:3: FutureWarning: You are using `torch.load` with `weights_only=False` (the current default value), which uses the default pickle module implicitly. It is possible to construct malicious pickle data which will execute arbitrary code during unpickling (See https://github.com/pytorch/pytorch/blob/main/SECURITY.md#untrusted-models for more details). In a future release, the default value for `weights_only` will be flipped to `True`. This limits the functions that could be executed during unpickling. Arbitrary objects will no longer be allowed to be loaded via this mode unless they are explicitly allowlisted by the user via `torch.serialization.add_safe_globals`. We recommend you start setting `weights_only=True` for any use case where you don't have full control of the loaded file. Please open an issue on GitHub for any issues related to this experimental feature.\n",
            "  model.load_state_dict(torch.load(f'weights_AT_0.1_sepa.pt'))\n"
          ]
        },
        {
          "name": "stdout",
          "output_type": "stream",
          "text": [
            "testing adversarial-trained model with eps 0.05\n",
            "Test set: Average loss: 0.0188, Robust Accuracy: 7126/10000 (71.26%)\n",
            "testing adversarial-trained model with eps 0.1\n",
            "Test set: Average loss: 0.0248, Robust Accuracy: 5322/10000 (53.22%)\n",
            "testing adversarial-trained model with eps 0.15\n",
            "Test set: Average loss: 0.0294, Robust Accuracy: 4003/10000 (40.03%)\n",
            "testing adversarial-trained model with eps 0.2\n",
            "Test set: Average loss: 0.0332, Robust Accuracy: 3113/10000 (31.13%)\n"
          ]
        }
      ],
      "source": [
        "## FGSM attack on adversarial trained model\n",
        "model = nn.Sequential(Normalize(), Net()).to(device)\n",
        "model.load_state_dict(torch.load(f'weights_AT_0.1_sepa.pt'))\n",
        "\n",
        "for eps in [0.05, 0.1, 0.15, 0.2]:\n",
        "    print(f\"testing adversarial-trained model with eps {eps}\")\n",
        "    test_model(model, attack='fgsm', eps=eps)"
      ]
    }
  ],
  "metadata": {
    "colab": {
      "collapsed_sections": [
        "0Mja_AB4RykO"
      ],
      "provenance": []
    },
    "kernelspec": {
      "display_name": "Python 3 (ipykernel)",
      "language": "python",
      "name": "python3"
    },
    "language_info": {
      "codemirror_mode": {
        "name": "ipython",
        "version": 3
      },
      "file_extension": ".py",
      "mimetype": "text/x-python",
      "name": "python",
      "nbconvert_exporter": "python",
      "pygments_lexer": "ipython3",
      "version": "0.0.0"
    }
  },
  "nbformat": 4,
  "nbformat_minor": 0
}
